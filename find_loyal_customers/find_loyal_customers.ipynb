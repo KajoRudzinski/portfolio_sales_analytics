{
 "cells": [
  {
   "cell_type": "markdown",
   "metadata": {},
   "source": [
    "Questions to ask [to be moved below]\n",
    "\n",
    "1. What percentage of customers return within 180 days?\n",
    "2. What is the average number of days between daily sales record?"
   ]
  },
  {
   "cell_type": "code",
   "execution_count": 1,
   "metadata": {},
   "outputs": [],
   "source": [
    "import pandas as pd\n",
    "import numpy as np\n",
    "\n",
    "orders = pd.read_csv('resources/orders.csv')"
   ]
  },
  {
   "cell_type": "code",
   "execution_count": 2,
   "metadata": {},
   "outputs": [
    {
     "name": "stdout",
     "output_type": "stream",
     "text": [
      "<class 'pandas.core.frame.DataFrame'>\n",
      "RangeIndex: 9994 entries, 0 to 9993\n",
      "Data columns (total 21 columns):\n",
      " #   Column         Non-Null Count  Dtype  \n",
      "---  ------         --------------  -----  \n",
      " 0   row_id         9994 non-null   int64  \n",
      " 1   order_id       9994 non-null   object \n",
      " 2   order_date     9994 non-null   object \n",
      " 3   ship_date      9994 non-null   object \n",
      " 4   ship_mode      9994 non-null   object \n",
      " 5   customer_id    9994 non-null   object \n",
      " 6   customer_name  9994 non-null   object \n",
      " 7   segment        9994 non-null   object \n",
      " 8   country        9994 non-null   object \n",
      " 9   city           9994 non-null   object \n",
      " 10  state          9994 non-null   object \n",
      " 11  postal_code    9994 non-null   int64  \n",
      " 12  region         9994 non-null   object \n",
      " 13  product_id     9994 non-null   object \n",
      " 14  category       9994 non-null   object \n",
      " 15  sub_category   9994 non-null   object \n",
      " 16  product_name   9994 non-null   object \n",
      " 17  sales          9994 non-null   float64\n",
      " 18  quantity       9994 non-null   int64  \n",
      " 19  discount       9994 non-null   float64\n",
      " 20  profit         9994 non-null   float64\n",
      "dtypes: float64(3), int64(3), object(15)\n",
      "memory usage: 1.6+ MB\n"
     ]
    }
   ],
   "source": [
    "# Check the basics data structure\n",
    "orders.info()"
   ]
  },
  {
   "cell_type": "code",
   "execution_count": 3,
   "metadata": {},
   "outputs": [
    {
     "data": {
      "text/plain": [
       "False"
      ]
     },
     "execution_count": 3,
     "metadata": {},
     "output_type": "execute_result"
    }
   ],
   "source": [
    "# Is order ID unique?\n",
    "orders['order_id'].value_counts().max() == 1"
   ]
  },
  {
   "cell_type": "code",
   "execution_count": 4,
   "metadata": {},
   "outputs": [
    {
     "data": {
      "text/html": [
       "<div>\n",
       "<style scoped>\n",
       "    .dataframe tbody tr th:only-of-type {\n",
       "        vertical-align: middle;\n",
       "    }\n",
       "\n",
       "    .dataframe tbody tr th {\n",
       "        vertical-align: top;\n",
       "    }\n",
       "\n",
       "    .dataframe thead th {\n",
       "        text-align: right;\n",
       "    }\n",
       "</style>\n",
       "<table border=\"1\" class=\"dataframe\">\n",
       "  <thead>\n",
       "    <tr style=\"text-align: right;\">\n",
       "      <th></th>\n",
       "      <th>order_date</th>\n",
       "      <th>ship_date</th>\n",
       "    </tr>\n",
       "  </thead>\n",
       "  <tbody>\n",
       "    <tr>\n",
       "      <th>amax</th>\n",
       "      <td>2016-12-30</td>\n",
       "      <td>2017-01-05</td>\n",
       "    </tr>\n",
       "    <tr>\n",
       "      <th>amin</th>\n",
       "      <td>2013-01-03</td>\n",
       "      <td>2013-01-07</td>\n",
       "    </tr>\n",
       "  </tbody>\n",
       "</table>\n",
       "</div>"
      ],
      "text/plain": [
       "      order_date   ship_date\n",
       "amax  2016-12-30  2017-01-05\n",
       "amin  2013-01-03  2013-01-07"
      ]
     },
     "execution_count": 4,
     "metadata": {},
     "output_type": "execute_result"
    }
   ],
   "source": [
    "# What is the timeframe (order date, shipping date)?\n",
    "orders[['order_date','ship_date']].agg([np.max,np.min])"
   ]
  },
  {
   "cell_type": "code",
   "execution_count": 5,
   "metadata": {},
   "outputs": [
    {
     "data": {
      "text/plain": [
       "category         sub_category\n",
       "Office Supplies  Binders         0.152391\n",
       "                 Paper           0.137082\n",
       "Furniture        Furnishings     0.095757\n",
       "Technology       Phones          0.088953\n",
       "Office Supplies  Storage         0.084651\n",
       "                 Art             0.079648\n",
       "Technology       Accessories     0.077547\n",
       "Furniture        Chairs          0.061737\n",
       "Office Supplies  Appliances      0.046628\n",
       "                 Labels          0.036422\n",
       "Furniture        Tables          0.031919\n",
       "Office Supplies  Envelopes       0.025415\n",
       "Furniture        Bookcases       0.022814\n",
       "Office Supplies  Fasteners       0.021713\n",
       "                 Supplies        0.019011\n",
       "Technology       Machines        0.011507\n",
       "                 Copiers         0.006804\n",
       "dtype: float64"
      ]
     },
     "execution_count": 5,
     "metadata": {},
     "output_type": "execute_result"
    }
   ],
   "source": [
    "# What in categories and sub-categories do we have?\n",
    "orders[['category','sub_category']].value_counts(normalize=True)"
   ]
  },
  {
   "cell_type": "code",
   "execution_count": 6,
   "metadata": {},
   "outputs": [
    {
     "data": {
      "text/plain": [
       "category         sub_category\n",
       "Furniture        Bookcases       114879.9963\n",
       "                 Chairs          328449.1030\n",
       "                 Furnishings      91705.1640\n",
       "                 Tables          206965.5320\n",
       "Office Supplies  Appliances      107532.1610\n",
       "                 Art              27118.7920\n",
       "                 Binders         203412.7330\n",
       "                 Envelopes        16476.4020\n",
       "                 Fasteners         3024.2800\n",
       "                 Labels           12486.3120\n",
       "                 Paper            78479.2060\n",
       "                 Storage         223843.6080\n",
       "                 Supplies         46673.5380\n",
       "Technology       Accessories     167380.3180\n",
       "                 Copiers         149528.0300\n",
       "                 Machines        189238.6310\n",
       "                 Phones          330007.0540\n",
       "Name: sales, dtype: float64"
      ]
     },
     "execution_count": 6,
     "metadata": {},
     "output_type": "execute_result"
    }
   ],
   "source": [
    "# How do the sales look like overall?\n",
    "orders.groupby(['category','sub_category'])['sales'].sum()"
   ]
  },
  {
   "cell_type": "code",
   "execution_count": null,
   "metadata": {},
   "outputs": [],
   "source": []
  }
 ],
 "metadata": {
  "kernelspec": {
   "display_name": "Python 3",
   "language": "python",
   "name": "python3"
  },
  "language_info": {
   "codemirror_mode": {
    "name": "ipython",
    "version": 3
   },
   "file_extension": ".py",
   "mimetype": "text/x-python",
   "name": "python",
   "nbconvert_exporter": "python",
   "pygments_lexer": "ipython3",
   "version": "3.8.5"
  }
 },
 "nbformat": 4,
 "nbformat_minor": 4
}
